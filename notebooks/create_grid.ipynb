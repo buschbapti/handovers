{
 "cells": [
  {
   "cell_type": "code",
   "execution_count": 3,
   "metadata": {},
   "outputs": [],
   "source": [
    "import rospy\n",
    "from thr_infrastructure_msgs.srv import GetCarryPose, GetCarryPoseRequest\n",
    "import tf\n",
    "import os\n",
    "import transformations"
   ]
  },
  {
   "cell_type": "code",
   "execution_count": 4,
   "metadata": {},
   "outputs": [],
   "source": [
    "rospy.init_node('create_grid')"
   ]
  },
  {
   "cell_type": "code",
   "execution_count": 3,
   "metadata": {},
   "outputs": [],
   "source": [
    "srv = rospy.ServiceProxy('thr/get_carry_pose', GetCarryPose)\n",
    "rospy.wait_for_service('thr/get_carry_pose')\n",
    "tfl = tf.TransformListener()"
   ]
  },
  {
   "cell_type": "code",
   "execution_count": 5,
   "metadata": {},
   "outputs": [],
   "source": [
    "ObjectTGripper = tfl.lookupTransform('shapeo', 'right_gripper', rospy.Time(0))"
   ]
  },
  {
   "cell_type": "code",
   "execution_count": 6,
   "metadata": {},
   "outputs": [
    {
     "data": {
      "text/plain": [
       "((-0.02861536745927118, 0.01184654044929978, 0.0676455700946112),\n",
       " (0.6943042452547984,\n",
       "  0.6234654355113374,\n",
       "  -0.03133961024470876,\n",
       "  0.3581205028667489))"
      ]
     },
     "execution_count": 6,
     "metadata": {},
     "output_type": "execute_result"
    }
   ],
   "source": [
    "ObjectTGripper"
   ]
  },
  {
   "cell_type": "markdown",
   "metadata": {},
   "source": [
    "## Defintion of functions"
   ]
  },
  {
   "cell_type": "code",
   "execution_count": 7,
   "metadata": {},
   "outputs": [],
   "source": [
    "def get_handover_location(method):\n",
    "    success = False\n",
    "    while not success:\n",
    "        rospy.sleep(0.1)\n",
    "        req = GetCarryPoseRequest()\n",
    "        req.object = '/shapeo'\n",
    "        req.location = 'star'\n",
    "        req.method = method\n",
    "        res = srv(req)\n",
    "        success = res.success\n",
    "    # express the result in VREP frame\n",
    "    VrepTBase = tfl.lookupTransform('vrep_frame', 'base', rospy.Time(0))\n",
    "    GripperTVrep = tfl.lookupTransform('right_gripper', 'vrep_tip', rospy.Time(0))\n",
    "    BaseTObject = transformations.pose_to_list(res.object_pose)\n",
    "    # apply chain rule of transformation\n",
    "    robot_pose = transformations.multiply_transform(VrepTBase, BaseTObject)\n",
    "    robot_pose = transformations.multiply_transform(robot_pose, ObjectTGripper)\n",
    "    robot_pose = transformations.multiply_transform(robot_pose, GripperTVrep)\n",
    "    return robot_pose, BaseTObject"
   ]
  },
  {
   "cell_type": "code",
   "execution_count": 8,
   "metadata": {},
   "outputs": [],
   "source": [
    "def convert_to_string(pose):\n",
    "    # create the string of the pose to write in the textfile\n",
    "    pose_str = ''\n",
    "    for lists in pose:\n",
    "        for value in lists:\n",
    "            pose_str += str(value) + '\\t' \n",
    "    pose_str += '\\n'\n",
    "    return pose_str"
   ]
  },
  {
   "cell_type": "markdown",
   "metadata": {},
   "source": [
    "## Create table of hip positions "
   ]
  },
  {
   "cell_type": "code",
   "execution_count": 17,
   "metadata": {},
   "outputs": [],
   "source": [
    "grid_corners = []\n",
    "hip_pose = []\n",
    "object_pose = []\n",
    "# get the 4 corners of the grid by asking the human to move between them\n",
    "for i in range(4):\n",
    "    rospy.sleep(5)\n",
    "    vrep, obj = get_handover_location('reba')\n",
    "    grid_corners.append(vrep)\n",
    "    object_pose.append(obj)\n",
    "    vrep, obj = get_handover_location('relative')\n",
    "    grid_corners.append(vrep)\n",
    "    object_pose.append(obj)\n",
    "    # get hip pose for checking\n",
    "    hip_pose.append(tfl.lookupTransform('base', '/human/tracker/base', rospy.Time(0)))\n",
    "    os.system('beep')\n",
    "    rospy.sleep(0.5)\n",
    "    os.system('beep')"
   ]
  },
  {
   "cell_type": "markdown",
   "metadata": {},
   "source": [
    "## Pulbish them to check result in Rviz"
   ]
  },
  {
   "cell_type": "code",
   "execution_count": 18,
   "metadata": {},
   "outputs": [],
   "source": [
    "tfb = tf.TransformBroadcaster()"
   ]
  },
  {
   "cell_type": "code",
   "execution_count": 19,
   "metadata": {},
   "outputs": [
    {
     "ename": "KeyboardInterrupt",
     "evalue": "",
     "output_type": "error",
     "traceback": [
      "\u001b[1;31m---------------------------------------------------------------------------\u001b[0m",
      "\u001b[1;31mKeyboardInterrupt\u001b[0m                         Traceback (most recent call last)",
      "\u001b[1;32m<ipython-input-19-11b00395e8b6>\u001b[0m in \u001b[0;36m<module>\u001b[1;34m()\u001b[0m\n\u001b[0;32m      9\u001b[0m         tfb.sendTransform(hip_pose[i][0], hip_pose[i][1], rospy.Time.now(),\n\u001b[0;32m     10\u001b[0m                           '/human/hip/'+str(i), 'base')\n\u001b[1;32m---> 11\u001b[1;33m     \u001b[0mrate\u001b[0m\u001b[1;33m.\u001b[0m\u001b[0msleep\u001b[0m\u001b[1;33m(\u001b[0m\u001b[1;33m)\u001b[0m\u001b[1;33m\u001b[0m\u001b[0m\n\u001b[0m",
      "\u001b[1;32m/opt/ros/indigo/lib/python2.7/dist-packages/rospy/timer.pyc\u001b[0m in \u001b[0;36msleep\u001b[1;34m(self)\u001b[0m\n\u001b[0;32m     97\u001b[0m         \"\"\"\n\u001b[0;32m     98\u001b[0m         \u001b[0mcurr_time\u001b[0m \u001b[1;33m=\u001b[0m \u001b[0mrospy\u001b[0m\u001b[1;33m.\u001b[0m\u001b[0mrostime\u001b[0m\u001b[1;33m.\u001b[0m\u001b[0mget_rostime\u001b[0m\u001b[1;33m(\u001b[0m\u001b[1;33m)\u001b[0m\u001b[1;33m\u001b[0m\u001b[0m\n\u001b[1;32m---> 99\u001b[1;33m         \u001b[0msleep\u001b[0m\u001b[1;33m(\u001b[0m\u001b[0mself\u001b[0m\u001b[1;33m.\u001b[0m\u001b[0m_remaining\u001b[0m\u001b[1;33m(\u001b[0m\u001b[0mcurr_time\u001b[0m\u001b[1;33m)\u001b[0m\u001b[1;33m)\u001b[0m\u001b[1;33m\u001b[0m\u001b[0m\n\u001b[0m\u001b[0;32m    100\u001b[0m         \u001b[0mself\u001b[0m\u001b[1;33m.\u001b[0m\u001b[0mlast_time\u001b[0m \u001b[1;33m=\u001b[0m \u001b[0mself\u001b[0m\u001b[1;33m.\u001b[0m\u001b[0mlast_time\u001b[0m \u001b[1;33m+\u001b[0m \u001b[0mself\u001b[0m\u001b[1;33m.\u001b[0m\u001b[0msleep_dur\u001b[0m\u001b[1;33m\u001b[0m\u001b[0m\n\u001b[0;32m    101\u001b[0m \u001b[1;33m\u001b[0m\u001b[0m\n",
      "\u001b[1;32m/opt/ros/indigo/lib/python2.7/dist-packages/rospy/timer.pyc\u001b[0m in \u001b[0;36msleep\u001b[1;34m(duration)\u001b[0m\n\u001b[0;32m    123\u001b[0m             \u001b[1;32mreturn\u001b[0m\u001b[1;33m\u001b[0m\u001b[0m\n\u001b[0;32m    124\u001b[0m         \u001b[1;32melse\u001b[0m\u001b[1;33m:\u001b[0m\u001b[1;33m\u001b[0m\u001b[0m\n\u001b[1;32m--> 125\u001b[1;33m             \u001b[0mrospy\u001b[0m\u001b[1;33m.\u001b[0m\u001b[0mrostime\u001b[0m\u001b[1;33m.\u001b[0m\u001b[0mwallsleep\u001b[0m\u001b[1;33m(\u001b[0m\u001b[0mduration\u001b[0m\u001b[1;33m)\u001b[0m\u001b[1;33m\u001b[0m\u001b[0m\n\u001b[0m\u001b[0;32m    126\u001b[0m     \u001b[1;32melse\u001b[0m\u001b[1;33m:\u001b[0m\u001b[1;33m\u001b[0m\u001b[0m\n\u001b[0;32m    127\u001b[0m         \u001b[0minitial_rostime\u001b[0m \u001b[1;33m=\u001b[0m \u001b[0mrospy\u001b[0m\u001b[1;33m.\u001b[0m\u001b[0mrostime\u001b[0m\u001b[1;33m.\u001b[0m\u001b[0mget_rostime\u001b[0m\u001b[1;33m(\u001b[0m\u001b[1;33m)\u001b[0m\u001b[1;33m\u001b[0m\u001b[0m\n",
      "\u001b[1;32m/opt/ros/indigo/lib/python2.7/dist-packages/rospy/rostime.pyc\u001b[0m in \u001b[0;36mwallsleep\u001b[1;34m(duration)\u001b[0m\n\u001b[0;32m    294\u001b[0m             \u001b[1;32mpass\u001b[0m\u001b[1;33m\u001b[0m\u001b[0m\n\u001b[0;32m    295\u001b[0m     \u001b[1;32melse\u001b[0m\u001b[1;33m:\u001b[0m\u001b[1;33m\u001b[0m\u001b[0m\n\u001b[1;32m--> 296\u001b[1;33m         \u001b[0mtime\u001b[0m\u001b[1;33m.\u001b[0m\u001b[0msleep\u001b[0m\u001b[1;33m(\u001b[0m\u001b[0mduration\u001b[0m\u001b[1;33m)\u001b[0m\u001b[1;33m\u001b[0m\u001b[0m\n\u001b[0m",
      "\u001b[1;31mKeyboardInterrupt\u001b[0m: "
     ]
    }
   ],
   "source": [
    "rate = rospy.Rate(10)\n",
    "while not rospy.is_shutdown():\n",
    "    for i in range(len(grid_corners)):\n",
    "        tfb.sendTransform(grid_corners[i][0], grid_corners[i][1], rospy.Time.now(),\n",
    "                          '/vrep/corner/'+str(i), '/vrep_frame')\n",
    "        tfb.sendTransform(object_pose[i][0], object_pose[i][1], rospy.Time.now(),\n",
    "                          '/object/'+str(i), 'base')\n",
    "    for i in range(len(hip_pose)):\n",
    "        tfb.sendTransform(hip_pose[i][0], hip_pose[i][1], rospy.Time.now(),\n",
    "                          '/human/hip/'+str(i), 'base')\n",
    "    rate.sleep()"
   ]
  },
  {
   "cell_type": "markdown",
   "metadata": {},
   "source": [
    "## Write result to a text file"
   ]
  },
  {
   "cell_type": "code",
   "execution_count": 23,
   "metadata": {},
   "outputs": [],
   "source": [
    "pose_reba = ''\n",
    "pose_naive = ''\n",
    "for i in range(4):\n",
    "    pose_reba += convert_to_string(grid_corners[i])\n",
    "    pose_naive += convert_to_string(grid_corners[i+1])\n",
    "# write the string to the file\n",
    "with open('/tmp/grid_reba.txt', 'w') as f:\n",
    "    f.write(pose_reba)\n",
    "with open('/tmp/grid_naive.txt', 'w') as f:\n",
    "    f.write(pose_naive)"
   ]
  },
  {
   "cell_type": "code",
   "execution_count": null,
   "metadata": {},
   "outputs": [],
   "source": []
  }
 ],
 "metadata": {
  "kernelspec": {
   "display_name": "Python 3",
   "language": "python",
   "name": "python3"
  },
  "language_info": {
   "codemirror_mode": {
    "name": "ipython",
    "version": 3
   },
   "file_extension": ".py",
   "mimetype": "text/x-python",
   "name": "python",
   "nbconvert_exporter": "python",
   "pygments_lexer": "ipython3",
   "version": "3.5.2"
  }
 },
 "nbformat": 4,
 "nbformat_minor": 1
}
