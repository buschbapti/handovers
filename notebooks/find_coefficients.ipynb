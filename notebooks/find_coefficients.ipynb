{
 "cells": [
  {
   "cell_type": "code",
   "execution_count": 1,
   "metadata": {},
   "outputs": [
    {
     "name": "stdout",
     "output_type": "stream",
     "text": [
      "Failed to import pyassimp, see https://github.com/ros-planning/moveit/issues/86 for more info\n"
     ]
    },
    {
     "name": "stderr",
     "output_type": "stream",
     "text": [
      "the rosdep view is empty: call 'sudo rosdep init' and 'rosdep update'\n"
     ]
    }
   ],
   "source": [
    "import numpy as np\n",
    "import statsmodels.api as sm\n",
    "from reba_optim.reba_assess import RebaAssess\n",
    "from human_moveit_config.human_model import HumanModel\n",
    "import csv\n",
    "from scipy.optimize import minimize\n",
    "import rospy\n",
    "from numpy.random import uniform\n",
    "import json\n",
    "from moveit_msgs.msg import RobotState\n",
    "from sensor_msgs.msg import JointState"
   ]
  },
  {
   "cell_type": "code",
   "execution_count": 2,
   "metadata": {},
   "outputs": [],
   "source": [
    "def dicttostate(dic):\n",
    "    rs = RobotState()\n",
    "    rs.joint_state.name = dic[\"name\"]\n",
    "    rs.joint_state.position = dic[\"position\"]\n",
    "    return rs"
   ]
  },
  {
   "cell_type": "code",
   "execution_count": 3,
   "metadata": {},
   "outputs": [],
   "source": [
    "def generate_random_pose(database, A_table, B_table, C_table):\n",
    "    side = ['right', 'left']\n",
    "    X = []\n",
    "    joints = []\n",
    "    # random pose for A group\n",
    "    i_n0 = np.random.randint(3)\n",
    "    i_n1 = np.random.randint(3)\n",
    "    i_n2 = np.random.randint(3)\n",
    "    joints.append(uniform(database['neck_0']['joints'][i_n0], database['neck_0']['joints'][i_n0 + 1]))\n",
    "    joints.append(uniform(database['neck_1']['joints'][i_n1], database['neck_1']['joints'][i_n1 + 1]))\n",
    "    joints.append(uniform(database['neck_2']['joints'][i_n2], database['neck_2']['joints'][i_n2 + 1]))\n",
    "    n_val = database['neck_1']['values'][i_n1]\n",
    "    if database['neck_0']['values'][i_n0] == 1 or database['neck_2']['values'][i_n2] == 1:\n",
    "        n_val += 1\n",
    "\n",
    "    i_s0 = np.random.randint(3)\n",
    "    i_s1 = np.random.randint(5)\n",
    "    i_s2 = np.random.randint(3)\n",
    "    joints.append(uniform(database['spine_0']['joints'][i_s0], database['spine_0']['joints'][i_s0 + 1]))\n",
    "    joints.append(uniform(database['spine_1']['joints'][i_s1], database['spine_1']['joints'][i_s1 + 1]))\n",
    "    joints.append(uniform(database['spine_2']['joints'][i_s2], database['spine_2']['joints'][i_s2 + 1]))\n",
    "    s_val = database['spine_1']['values'][i_s1]\n",
    "    if database['spine_0']['values'][i_s0] == 1 or database['spine_2']['values'][i_s2] == 1:\n",
    "        s_val += 1\n",
    "    \n",
    "    k_vals = []\n",
    "    for i in range(2):\n",
    "        i_l0 = np.random.randint(2)\n",
    "        joints.append(uniform(database['knee_0']['joints'][i_l0], database['knee_0']['joints'][i_l0 + 1]))\n",
    "        k_vals.append(database['knee_0']['values'][i_l0])\n",
    "    k_val = max(k_vals)\n",
    "    # get value from table\n",
    "    A_val = A_table[n_val - 1, s_val - 1, k_val - 1]\n",
    "    \n",
    "    # random pose for B group\n",
    "    sh_vals = []\n",
    "    for i in range(2):\n",
    "        i_sh0 = np.random.randint(2)\n",
    "        i_sh1 = np.random.randint(5)\n",
    "        joints.append(uniform(database[side[i] + '_shoulder_0']['joints'][i_sh0],\n",
    "                         database[side[i] + '_shoulder_0']['joints'][i_sh0 + 1]))\n",
    "        joints.append(uniform(database[side[i] + '_shoulder_1']['joints'][i_sh1],\n",
    "                         database[side[i] + '_shoulder_1']['joints'][i_sh1 + 1]))\n",
    "        sh_vals.append(database[side[i] + '_shoulder_1']['values'][i_sh1])\n",
    "        if database[side[i] + '_shoulder_0']['values'][i_sh0] == 1:\n",
    "            sh_vals[-1] += 1\n",
    "    sh_val = max(sh_vals)\n",
    "\n",
    "    e_vals = []\n",
    "    for i in range(2):\n",
    "        i_e0 = np.random.randint(3)\n",
    "        joints.append(uniform(database[side[i] + '_elbow_0']['joints'][i_e0],\n",
    "                         database[side[i] + '_elbow_0']['joints'][i_e0 + 1]))\n",
    "        e_vals.append(database[side[i] + '_elbow_0']['values'][i_e0])\n",
    "    e_val = max(e_vals)\n",
    "\n",
    "    w_vals = []\n",
    "    for i in range(2):\n",
    "        i_w0 = np.random.randint(3)\n",
    "        i_w1 = np.random.randint(3)\n",
    "        i_w2 = np.random.randint(3)\n",
    "        joints.append(uniform(database['wrist_0']['joints'][i_w0], database['wrist_0']['joints'][i_w0 + 1]))\n",
    "        joints.append(uniform(database['wrist_1']['joints'][i_w1], database['wrist_1']['joints'][i_w1 + 1]))\n",
    "        joints.append(uniform(database['wrist_2']['joints'][i_w2], database['wrist_2']['joints'][i_w2 + 1]))\n",
    "        w_vals.append(database['wrist_1']['values'][i_w1])\n",
    "        if database['wrist_0']['values'][i_w0] == 1 or database['wrist_2']['values'][i_w2] == 1:\n",
    "            w_vals[-1] += 1\n",
    "    w_val = max(w_vals)\n",
    "    \n",
    "    # get value from table\n",
    "    B_val = B_table[e_val - 1, sh_val - 1, w_val - 1]\n",
    "    \n",
    "    # get total value from C table\n",
    "    C_val = C_table[int(A_val - 1), int(B_val - 1)]\n",
    "\n",
    "    joint_state = JointState()\n",
    "    joint_state.name = joint_names\n",
    "    joint_state.position = joints\n",
    "    \n",
    "    X = human.forward_kinematic(joint_state, links=\"all\")\n",
    "    return X, joints, C_val"
   ]
  },
  {
   "cell_type": "code",
   "execution_count": 4,
   "metadata": {},
   "outputs": [],
   "source": [
    "human = HumanModel(control=True)"
   ]
  },
  {
   "cell_type": "code",
   "execution_count": 5,
   "metadata": {},
   "outputs": [],
   "source": [
    "reba = RebaAssess()\n",
    "rospy.init_node('find_coefficients')"
   ]
  },
  {
   "cell_type": "code",
   "execution_count": 6,
   "metadata": {},
   "outputs": [],
   "source": [
    "joint_names = ['neck_0', 'neck_1', 'neck_2', 'spine_0', 'spine_1', 'spine_2',\n",
    "               'right_knee_0', 'left_knee_0', 'right_shoulder_0', 'right_shoulder_1',\n",
    "               'left_shoulder_0', 'left_shoulder_1', 'right_elbow_0', 'left_elbow_0',\n",
    "               'right_wrist_0', 'right_wrist_1', 'right_wrist_2', 'left_wrist_0',\n",
    "               'left_wrist_1', 'left_wrist_2']"
   ]
  },
  {
   "cell_type": "code",
   "execution_count": 7,
   "metadata": {},
   "outputs": [],
   "source": [
    "rad_factor = np.pi / 180.\n",
    "rad_convert = lambda x : x * rad_factor"
   ]
  },
  {
   "cell_type": "code",
   "execution_count": 8,
   "metadata": {},
   "outputs": [],
   "source": [
    "database = {}\n",
    "# neck\n",
    "database['neck_0'] = {}\n",
    "database['neck_0']['joints'] = map(rad_convert, [-45, -15, 15, 45])\n",
    "database['neck_0']['values'] = [1, 0, 1]\n",
    "database['neck_1'] = {}\n",
    "database['neck_1']['joints'] = map(rad_convert, [-45, 10, 20, 45])\n",
    "database['neck_1']['values'] = [2, 1, 2]\n",
    "database['neck_2'] = {}\n",
    "database['neck_2']['joints'] = map(rad_convert, [-45, -15, 15, 45])\n",
    "database['neck_2']['values'] = [1, 0, 1]\n",
    "# trunk\n",
    "database['spine_0'] = {}\n",
    "database['spine_0']['joints'] = map(rad_convert, [-45, -15, 15, 45])\n",
    "database['spine_0']['values'] = [1, 0, 1]\n",
    "database['spine_1'] = {}\n",
    "database['spine_1']['joints'] = map(rad_convert, [-20, -10, 10, 20, 60, 90])\n",
    "database['spine_1']['values'] = [2, 1, 2, 3, 4]\n",
    "database['spine_2'] = {}\n",
    "database['spine_2']['joints'] = map(rad_convert, [-45, -15, 15, 45])\n",
    "database['spine_2']['values'] = [1, 0, 1]\n",
    "# knee \n",
    "database['knee_0'] = {}\n",
    "database['knee_0']['joints'] = map(rad_convert, [-80, -60, 0])\n",
    "database['knee_0']['values'] = [2, 1]\n",
    "# shoulder right\n",
    "database['right_shoulder_0'] = {}\n",
    "database['right_shoulder_0']['joints'] = map(rad_convert, [0, 75, 90])\n",
    "database['right_shoulder_0']['values'] = [1, 0]\n",
    "database['right_shoulder_1'] = {}\n",
    "database['right_shoulder_1']['joints'] = map(rad_convert, [-45, -20, 20, 45, 90, 135])\n",
    "database['right_shoulder_1']['values'] = [2, 1, 2, 3, 4]\n",
    "# shoulder left\n",
    "database['left_shoulder_0'] = {}\n",
    "database['left_shoulder_0']['joints'] = map(rad_convert, [0, 75, 90])\n",
    "database['left_shoulder_0']['values'] = [1, 0]\n",
    "database['left_shoulder_1'] = {}\n",
    "database['left_shoulder_1']['joints'] = map(rad_convert, [45, 20, -20, -45, -90, -135])\n",
    "database['left_shoulder_1']['values'] = [2, 1, 2, 3, 4]\n",
    "# elbow right\n",
    "database['right_elbow_0'] = {}\n",
    "database['right_elbow_0']['joints'] = map(rad_convert, [0, 60, 100, 145])\n",
    "database['right_elbow_0']['values'] = [2, 1, 2]\n",
    "# elbow left\n",
    "database['left_elbow_0'] = {}\n",
    "database['left_elbow_0']['joints'] = map(rad_convert, [0, -60, -100, -145])\n",
    "database['left_elbow_0']['values'] = [2, 1, 2]\n",
    "# wrist\n",
    "database['wrist_0'] = {}\n",
    "database['wrist_0']['joints'] = map(rad_convert, [-45, -10, 10, 45])\n",
    "database['wrist_0']['values'] = [1, 0, 1]\n",
    "database['wrist_1'] = {}\n",
    "database['wrist_1']['joints'] = map(rad_convert, [-30, -15, 15, 30])\n",
    "database['wrist_1']['values'] = [2, 1, 2]\n",
    "database['wrist_2'] = {}\n",
    "database['wrist_2']['joints'] = map(rad_convert, [-30, -10, 10, 30])\n",
    "database['wrist_2']['values'] = [1, 0, 1]"
   ]
  },
  {
   "cell_type": "code",
   "execution_count": 14,
   "metadata": {},
   "outputs": [],
   "source": [
    "theta = []\n",
    "X = []\n",
    "Y = []\n",
    "nb_elem = 1000\n",
    "last_class = 10\n",
    "nb_by_class = np.zeros(last_class)\n",
    "nb_total = np.ones(last_class) * nb_elem\n",
    "while not np.array_equal(nb_by_class, nb_total):\n",
    "    state, joints, val = generate_random_pose(database, reba.reba_A_table, reba.reba_B_table, reba.reba_C_table)\n",
    "    int_val = int(val)\n",
    "    if nb_by_class[int_val - 1] < nb_elem:\n",
    "        X.append(state)\n",
    "        theta.append(joints)\n",
    "        Y.append(val)\n",
    "        nb_by_class[int_val - 1] += 1"
   ]
  },
  {
   "cell_type": "code",
   "execution_count": 15,
   "metadata": {},
   "outputs": [],
   "source": [
    "X_header = ['human/right_knee',\n",
    " 'human/right_ankle',\n",
    " 'human/right_hip',\n",
    " 'human/neck',\n",
    " 'human/right_shoulder',\n",
    " 'human/spine',\n",
    " 'human/left_ankle',\n",
    " 'human/right_hand',\n",
    " 'human/right_elbow',\n",
    " 'human/left_wrist',\n",
    " 'human/left_hand',\n",
    " 'human/right_foot',\n",
    " 'human/left_hip',\n",
    " 'human/left_knee',\n",
    " 'human/right_wrist',\n",
    " 'human/left_elbow',\n",
    " 'human/shoulder_center',\n",
    " 'human/left_foot',\n",
    " 'human/left_shoulder',\n",
    " 'human/head']\n",
    "suffix = ['x','y','z','qx','qy','qz','qw']"
   ]
  },
  {
   "cell_type": "code",
   "execution_count": 16,
   "metadata": {},
   "outputs": [],
   "source": [
    "modified_header = [name.split('/')[1] +'_'+ suff for name in X_header for suff in suffix]"
   ]
  },
  {
   "cell_type": "code",
   "execution_count": 17,
   "metadata": {},
   "outputs": [],
   "source": [
    "def get_coord(headers,dic):\n",
    "    res = []\n",
    "    for header in headers:\n",
    "        res += dic[header][0]\n",
    "        res += dic[header][1]\n",
    "    return res"
   ]
  },
  {
   "cell_type": "code",
   "execution_count": 18,
   "metadata": {},
   "outputs": [],
   "source": [
    "f = open('../tmp/validation.csv', 'wt')\n",
    "try:\n",
    "    writer = csv.writer(f)\n",
    "    writer.writerow(['Y'] + joint_names + modified_header)\n",
    "    for i in range(len(X)):\n",
    "        writer.writerow([Y[i]] + theta[i] + get_coord(X_header,X[i]))\n",
    "finally:\n",
    "    f.close()"
   ]
  },
  {
   "cell_type": "code",
   "execution_count": null,
   "metadata": {},
   "outputs": [],
   "source": [
    "nb_elem = 100\n",
    "last_class = 10\n",
    "state_by_class = []\n",
    "postures_by_class = []\n",
    "for i in range(last_class):\n",
    "    state_by_class.append([])\n",
    "    postures_by_class.append([])\n",
    "nb_by_class = np.zeros(last_class)\n",
    "nb_total = np.ones(last_class) * nb_elem\n",
    "while not np.array_equal(nb_by_class, nb_total):\n",
    "    joints, val = generate_random_pose(database, reba.reba_A_table, reba.reba_B_table, reba.reba_C_table)\n",
    "    val = int(val)\n",
    "    if nb_by_class[val - 1] < nb_elem:\n",
    "        posture = {}\n",
    "        state = {}\n",
    "        state['name'] = joint_names\n",
    "        state['position'] = joints\n",
    "        state_by_class[val - 1].append(dicttostate(state))\n",
    "        postures_by_class[val - 1].append(state)\n",
    "        nb_by_class[val - 1] += 1\n",
    "# save the dict of postures\n",
    "with open('/tmp/postures.json', 'w') as outfile:\n",
    "    json.dump(postures_by_class, outfile, sort_keys=True, indent=4)"
   ]
  },
  {
   "cell_type": "code",
   "execution_count": null,
   "metadata": {},
   "outputs": [],
   "source": [
    "class_value = 1\n",
    "states = state_by_class[class_value - 1]\n",
    "for s in states:\n",
    "    human.send_state(s)\n",
    "    for i in range(len(s.joint_state.name)):\n",
    "        print s.joint_state.name[i], s.joint_state.position[i]\n",
    "    print '------------------------------------------------'\n",
    "    raw_input()"
   ]
  },
  {
   "cell_type": "code",
   "execution_count": null,
   "metadata": {},
   "outputs": [],
   "source": []
  }
 ],
 "metadata": {
  "kernelspec": {
   "display_name": "Python 2",
   "language": "python",
   "name": "python2"
  },
  "language_info": {
   "codemirror_mode": {
    "name": "ipython",
    "version": 2
   },
   "file_extension": ".py",
   "mimetype": "text/x-python",
   "name": "python",
   "nbconvert_exporter": "python",
   "pygments_lexer": "ipython2",
   "version": "2.7.12"
  }
 },
 "nbformat": 4,
 "nbformat_minor": 1
}
